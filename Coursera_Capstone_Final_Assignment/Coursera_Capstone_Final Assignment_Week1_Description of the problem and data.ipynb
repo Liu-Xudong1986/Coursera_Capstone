{
 "cells": [
  {
   "cell_type": "markdown",
   "metadata": {},
   "source": [
    "# Is the chosen location good enough to make restaurant investment in Toronto?\n",
    "### Applied Data Science Capstone by IBM Coursera"
   ]
  },
  {
   "cell_type": "markdown",
   "metadata": {},
   "source": [
    "------"
   ]
  },
  {
   "cell_type": "markdown",
   "metadata": {},
   "source": [
    "## Background: Business Problem <a name=\"introduction\"></a>"
   ]
  },
  {
   "cell_type": "markdown",
   "metadata": {},
   "source": [
    "\"Is this place good enough to open a restaurant?\" This may be the first question comes to your mind when you decide to open a restaurant in some place. So how do you know if you have chosen the right location? \n",
    "\n",
    "There are many impacts can affect the operation of the restaurant later, such as number of existing restaurants nearby, number of population in the location you choose, if there is a station or hotel or shopping mall nearby, and so on. And sometimes it is hard to say which factor is decisive and which one is useless, we need a smarter way to take all these factors into consideration.\n",
    "\n",
    "In this project, I will use data science method to help the stakeholders to make the decision by analyzing these factors."
   ]
  },
  {
   "cell_type": "markdown",
   "metadata": {},
   "source": [
    "## Datasets <a name=\"data\"></a>"
   ]
  },
  {
   "cell_type": "markdown",
   "metadata": {},
   "source": [
    "Based on description of our problem, we have identified following factors that will impact our decission are:\n",
    "* number of existing restaurants around the location\n",
    "* number of population or population change in past years in the neighborhood\n",
    "* if there are bus stataions/subway stataions nearby\n",
    "* how many parks, schools, hotels, markets, shoppting malls, bars in the chosen location\n",
    "* the total income for the population aged 15 years and over.\n",
    "\n",
    "We use use following data sources to create datasets which we will use in our project:\n",
    "* The neiborhood name, population and total income information is extracted from [Toronto Neighborhood Profile](https://open.toronto.ca/dataset/neighbourhood-profiles/).\n",
    "* The latitude and longitude of the neighborhood is given by google geocoding.\n",
    "* Number of restaurants/stations/parks/etc and their location in every neighborhood will be obtained using **Foursquare API**.\n",
    "\n",
    "Finally we will have a data set including Latitude, Longitude, Population, Population Change, Total Income for the population aged 15 years and over, number of Restaurant, Mall/Shops, Station/Subway, Bar/Drinks, Park, Hotel, School and Mrket. Each step of data cleaning will be described in detail in the finale jupyter notebook."
   ]
  },
  {
   "cell_type": "code",
   "execution_count": null,
   "metadata": {},
   "outputs": [],
   "source": []
  },
  {
   "cell_type": "code",
   "execution_count": null,
   "metadata": {},
   "outputs": [],
   "source": []
  },
  {
   "cell_type": "code",
   "execution_count": null,
   "metadata": {},
   "outputs": [],
   "source": []
  },
  {
   "cell_type": "code",
   "execution_count": null,
   "metadata": {},
   "outputs": [],
   "source": []
  }
 ],
 "metadata": {
  "kernelspec": {
   "display_name": "Python 3",
   "language": "python",
   "name": "python3"
  },
  "language_info": {
   "codemirror_mode": {
    "name": "ipython",
    "version": 3
   },
   "file_extension": ".py",
   "mimetype": "text/x-python",
   "name": "python",
   "nbconvert_exporter": "python",
   "pygments_lexer": "ipython3",
   "version": "3.8.3"
  }
 },
 "nbformat": 4,
 "nbformat_minor": 4
}
